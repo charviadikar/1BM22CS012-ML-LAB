{
  "nbformat": 4,
  "nbformat_minor": 0,
  "metadata": {
    "colab": {
      "provenance": [],
      "authorship_tag": "ABX9TyNmReXwTkxh2PBg7u07OCrX",
      "include_colab_link": true
    },
    "kernelspec": {
      "name": "python3",
      "display_name": "Python 3"
    },
    "language_info": {
      "name": "python"
    }
  },
  "cells": [
    {
      "cell_type": "markdown",
      "metadata": {
        "id": "view-in-github",
        "colab_type": "text"
      },
      "source": [
        "<a href=\"https://colab.research.google.com/github/charviadikar/1BM22CS012-ML-LAB/blob/main/1BM22CS012_Lab4_Linear_Multiple_Regression.ipynb\" target=\"_parent\"><img src=\"https://colab.research.google.com/assets/colab-badge.svg\" alt=\"Open In Colab\"/></a>"
      ]
    },
    {
      "cell_type": "code",
      "source": [
        "from google.colab import files\n",
        "\n",
        "\n",
        "uploaded = files.upload()"
      ],
      "metadata": {
        "colab": {
          "base_uri": "https://localhost:8080/",
          "height": 246
        },
        "id": "Yjvvnt26i-DK",
        "outputId": "67438853-7b1c-4f3f-d56c-9980beec8cb0"
      },
      "execution_count": 8,
      "outputs": [
        {
          "output_type": "display_data",
          "data": {
            "text/plain": [
              "<IPython.core.display.HTML object>"
            ],
            "text/html": [
              "\n",
              "     <input type=\"file\" id=\"files-a4ac3307-1dbd-4d8d-b528-8e567b0ce72b\" name=\"files[]\" multiple disabled\n",
              "        style=\"border:none\" />\n",
              "     <output id=\"result-a4ac3307-1dbd-4d8d-b528-8e567b0ce72b\">\n",
              "      Upload widget is only available when the cell has been executed in the\n",
              "      current browser session. Please rerun this cell to enable.\n",
              "      </output>\n",
              "      <script>// Copyright 2017 Google LLC\n",
              "//\n",
              "// Licensed under the Apache License, Version 2.0 (the \"License\");\n",
              "// you may not use this file except in compliance with the License.\n",
              "// You may obtain a copy of the License at\n",
              "//\n",
              "//      http://www.apache.org/licenses/LICENSE-2.0\n",
              "//\n",
              "// Unless required by applicable law or agreed to in writing, software\n",
              "// distributed under the License is distributed on an \"AS IS\" BASIS,\n",
              "// WITHOUT WARRANTIES OR CONDITIONS OF ANY KIND, either express or implied.\n",
              "// See the License for the specific language governing permissions and\n",
              "// limitations under the License.\n",
              "\n",
              "/**\n",
              " * @fileoverview Helpers for google.colab Python module.\n",
              " */\n",
              "(function(scope) {\n",
              "function span(text, styleAttributes = {}) {\n",
              "  const element = document.createElement('span');\n",
              "  element.textContent = text;\n",
              "  for (const key of Object.keys(styleAttributes)) {\n",
              "    element.style[key] = styleAttributes[key];\n",
              "  }\n",
              "  return element;\n",
              "}\n",
              "\n",
              "// Max number of bytes which will be uploaded at a time.\n",
              "const MAX_PAYLOAD_SIZE = 100 * 1024;\n",
              "\n",
              "function _uploadFiles(inputId, outputId) {\n",
              "  const steps = uploadFilesStep(inputId, outputId);\n",
              "  const outputElement = document.getElementById(outputId);\n",
              "  // Cache steps on the outputElement to make it available for the next call\n",
              "  // to uploadFilesContinue from Python.\n",
              "  outputElement.steps = steps;\n",
              "\n",
              "  return _uploadFilesContinue(outputId);\n",
              "}\n",
              "\n",
              "// This is roughly an async generator (not supported in the browser yet),\n",
              "// where there are multiple asynchronous steps and the Python side is going\n",
              "// to poll for completion of each step.\n",
              "// This uses a Promise to block the python side on completion of each step,\n",
              "// then passes the result of the previous step as the input to the next step.\n",
              "function _uploadFilesContinue(outputId) {\n",
              "  const outputElement = document.getElementById(outputId);\n",
              "  const steps = outputElement.steps;\n",
              "\n",
              "  const next = steps.next(outputElement.lastPromiseValue);\n",
              "  return Promise.resolve(next.value.promise).then((value) => {\n",
              "    // Cache the last promise value to make it available to the next\n",
              "    // step of the generator.\n",
              "    outputElement.lastPromiseValue = value;\n",
              "    return next.value.response;\n",
              "  });\n",
              "}\n",
              "\n",
              "/**\n",
              " * Generator function which is called between each async step of the upload\n",
              " * process.\n",
              " * @param {string} inputId Element ID of the input file picker element.\n",
              " * @param {string} outputId Element ID of the output display.\n",
              " * @return {!Iterable<!Object>} Iterable of next steps.\n",
              " */\n",
              "function* uploadFilesStep(inputId, outputId) {\n",
              "  const inputElement = document.getElementById(inputId);\n",
              "  inputElement.disabled = false;\n",
              "\n",
              "  const outputElement = document.getElementById(outputId);\n",
              "  outputElement.innerHTML = '';\n",
              "\n",
              "  const pickedPromise = new Promise((resolve) => {\n",
              "    inputElement.addEventListener('change', (e) => {\n",
              "      resolve(e.target.files);\n",
              "    });\n",
              "  });\n",
              "\n",
              "  const cancel = document.createElement('button');\n",
              "  inputElement.parentElement.appendChild(cancel);\n",
              "  cancel.textContent = 'Cancel upload';\n",
              "  const cancelPromise = new Promise((resolve) => {\n",
              "    cancel.onclick = () => {\n",
              "      resolve(null);\n",
              "    };\n",
              "  });\n",
              "\n",
              "  // Wait for the user to pick the files.\n",
              "  const files = yield {\n",
              "    promise: Promise.race([pickedPromise, cancelPromise]),\n",
              "    response: {\n",
              "      action: 'starting',\n",
              "    }\n",
              "  };\n",
              "\n",
              "  cancel.remove();\n",
              "\n",
              "  // Disable the input element since further picks are not allowed.\n",
              "  inputElement.disabled = true;\n",
              "\n",
              "  if (!files) {\n",
              "    return {\n",
              "      response: {\n",
              "        action: 'complete',\n",
              "      }\n",
              "    };\n",
              "  }\n",
              "\n",
              "  for (const file of files) {\n",
              "    const li = document.createElement('li');\n",
              "    li.append(span(file.name, {fontWeight: 'bold'}));\n",
              "    li.append(span(\n",
              "        `(${file.type || 'n/a'}) - ${file.size} bytes, ` +\n",
              "        `last modified: ${\n",
              "            file.lastModifiedDate ? file.lastModifiedDate.toLocaleDateString() :\n",
              "                                    'n/a'} - `));\n",
              "    const percent = span('0% done');\n",
              "    li.appendChild(percent);\n",
              "\n",
              "    outputElement.appendChild(li);\n",
              "\n",
              "    const fileDataPromise = new Promise((resolve) => {\n",
              "      const reader = new FileReader();\n",
              "      reader.onload = (e) => {\n",
              "        resolve(e.target.result);\n",
              "      };\n",
              "      reader.readAsArrayBuffer(file);\n",
              "    });\n",
              "    // Wait for the data to be ready.\n",
              "    let fileData = yield {\n",
              "      promise: fileDataPromise,\n",
              "      response: {\n",
              "        action: 'continue',\n",
              "      }\n",
              "    };\n",
              "\n",
              "    // Use a chunked sending to avoid message size limits. See b/62115660.\n",
              "    let position = 0;\n",
              "    do {\n",
              "      const length = Math.min(fileData.byteLength - position, MAX_PAYLOAD_SIZE);\n",
              "      const chunk = new Uint8Array(fileData, position, length);\n",
              "      position += length;\n",
              "\n",
              "      const base64 = btoa(String.fromCharCode.apply(null, chunk));\n",
              "      yield {\n",
              "        response: {\n",
              "          action: 'append',\n",
              "          file: file.name,\n",
              "          data: base64,\n",
              "        },\n",
              "      };\n",
              "\n",
              "      let percentDone = fileData.byteLength === 0 ?\n",
              "          100 :\n",
              "          Math.round((position / fileData.byteLength) * 100);\n",
              "      percent.textContent = `${percentDone}% done`;\n",
              "\n",
              "    } while (position < fileData.byteLength);\n",
              "  }\n",
              "\n",
              "  // All done.\n",
              "  yield {\n",
              "    response: {\n",
              "      action: 'complete',\n",
              "    }\n",
              "  };\n",
              "}\n",
              "\n",
              "scope.google = scope.google || {};\n",
              "scope.google.colab = scope.google.colab || {};\n",
              "scope.google.colab._files = {\n",
              "  _uploadFiles,\n",
              "  _uploadFilesContinue,\n",
              "};\n",
              "})(self);\n",
              "</script> "
            ]
          },
          "metadata": {}
        },
        {
          "output_type": "stream",
          "name": "stdout",
          "text": [
            "Saving homeprices_Multiple_LR.csv to homeprices_Multiple_LR.csv\n",
            "Saving housing_area_price.csv to housing_area_price (1).csv\n",
            "Saving 1000_Companies.csv to 1000_Companies (1).csv\n",
            "Saving salary.csv to salary (1).csv\n",
            "Saving hiring.csv to hiring (1).csv\n",
            "Saving canada_per_capita_income.csv to canada_per_capita_income (1).csv\n"
          ]
        }
      ]
    },
    {
      "cell_type": "markdown",
      "source": [
        "**linear_regression_housing_area_price**"
      ],
      "metadata": {
        "id": "9SvQZFA-j0Ug"
      }
    },
    {
      "cell_type": "code",
      "execution_count": 6,
      "metadata": {
        "colab": {
          "base_uri": "https://localhost:8080/",
          "height": 623
        },
        "id": "3PX_72Dderly",
        "outputId": "f07fff3b-0f08-4626-e94a-e5916e6494b6"
      },
      "outputs": [
        {
          "output_type": "stream",
          "name": "stdout",
          "text": [
            "Predicted price for 3300 sq ft: $628,715.75\n",
            "Model coefficient: [135.78767123]\n",
            "Model intercept: 180616.43835616432\n",
            "Manually computed price for 3300 sq ft: $628,715.75\n",
            "Predicted price for 5000 sq ft: $859,554.79\n"
          ]
        },
        {
          "output_type": "stream",
          "name": "stderr",
          "text": [
            "/usr/local/lib/python3.11/dist-packages/sklearn/utils/validation.py:2739: UserWarning: X does not have valid feature names, but LinearRegression was fitted with feature names\n",
            "  warnings.warn(\n",
            "/usr/local/lib/python3.11/dist-packages/sklearn/utils/validation.py:2739: UserWarning: X does not have valid feature names, but LinearRegression was fitted with feature names\n",
            "  warnings.warn(\n"
          ]
        },
        {
          "output_type": "execute_result",
          "data": {
            "text/plain": [
              "[<matplotlib.lines.Line2D at 0x79bd1a3cd910>]"
            ]
          },
          "metadata": {},
          "execution_count": 6
        },
        {
          "output_type": "display_data",
          "data": {
            "text/plain": [
              "<Figure size 640x480 with 1 Axes>"
            ],
            "image/png": "[encoded data removed]"
          },
          "metadata": {}
        }
      ],
      "source": [
        "import pandas as pd\n",
        "import numpy as np\n",
        "from sklearn import linear_model\n",
        "import matplotlib.pyplot as plt\n",
        "\n",
        "df = pd.read_csv('housing_area_price.csv')\n",
        "\n",
        "plt.xlabel('Area (sq ft)')\n",
        "plt.ylabel('Price')\n",
        "plt.scatter(df.area, df.price, color='red', marker='+')\n",
        "\n",
        "new_df = df.drop('price', axis='columns')\n",
        "price = df.price\n",
        "\n",
        "reg = linear_model.LinearRegression()\n",
        "reg.fit(new_df, price)\n",
        "\n",
        "predicted_price_3300 = reg.predict([[3300]])\n",
        "print(f\"Predicted price for 3300 sq ft: ${predicted_price_3300[0]:,.2f}\")\n",
        "\n",
        "print(f\"Model coefficient: {reg.coef_}\")\n",
        "print(f\"Model intercept: {reg.intercept_}\")\n",
        "\n",
        "manual_price_3300 = 3300 * reg.coef_[0] + reg.intercept_\n",
        "print(f\"Manually computed price for 3300 sq ft: ${manual_price_3300:,.2f}\")\n",
        "\n",
        "predicted_price_5000 = reg.predict([[5000]])\n",
        "print(f\"Predicted price for 5000 sq ft: ${predicted_price_5000[0]:,.2f}\")\n",
        "\n",
        "plt.plot(df.area, reg.predict(df[['area']]), color='blue')"
      ]
    },
    {
      "cell_type": "markdown",
      "source": [
        "**multiple_lr_homeprice**"
      ],
      "metadata": {
        "id": "nANFaVU0j7sx"
      }
    },
    {
      "cell_type": "code",
      "source": [
        "import pandas as pd\n",
        "import numpy as np\n",
        "from sklearn import linear_model\n",
        "\n",
        "df = pd.read_csv('homeprices_Multiple_LR.csv')\n",
        "df.bedrooms.median()\n",
        "df.bedrooms = df.bedrooms.fillna(df.bedrooms.median())\n",
        "reg = linear_model.LinearRegression()\n",
        "reg.fit(df.drop('price', axis='columns'), df.price)\n",
        "reg.coef_\n",
        "reg.intercept_\n",
        "reg.predict([[3000, 3, 40]])"
      ],
      "metadata": {
        "colab": {
          "base_uri": "https://localhost:8080/"
        },
        "id": "nguVoKwujRHI",
        "outputId": "506ce763-6b3d-4bb5-e1a5-61b9181f89ab"
      },
      "execution_count": 9,
      "outputs": [
        {
          "output_type": "stream",
          "name": "stderr",
          "text": [
            "/usr/local/lib/python3.11/dist-packages/sklearn/utils/validation.py:2739: UserWarning: X does not have valid feature names, but LinearRegression was fitted with feature names\n",
            "  warnings.warn(\n"
          ]
        },
        {
          "output_type": "execute_result",
          "data": {
            "text/plain": [
              "array([498408.25158031])"
            ]
          },
          "metadata": {},
          "execution_count": 9
        }
      ]
    },
    {
      "cell_type": "markdown",
      "source": [
        "**canada_per_capita_income**"
      ],
      "metadata": {
        "id": "21kRCeU5kC_Q"
      }
    },
    {
      "cell_type": "code",
      "source": [
        "import pandas as pd\n",
        "import numpy as np\n",
        "from sklearn import linear_model\n",
        "import matplotlib.pyplot as plt\n",
        "\n",
        "df = pd.read_csv('canada_per_capita_income.csv')\n",
        "\n",
        "reg = linear_model.LinearRegression()\n",
        "reg.fit(df[['year']], df['per capita income (US$)'])\n",
        "\n",
        "print(f\"Coefficient: {reg.coef_}\")\n",
        "print(f\"Intercept: {reg.intercept_}\")\n",
        "\n",
        "predicted_income = reg.predict([[2020]])\n",
        "print(f\"Predicted per capita income for 2020: ${predicted_income[0]:,.2f}\")\n",
        "\n",
        "plt.scatter(df['year'], df['per capita income (US$)'], color='red')\n",
        "plt.plot(df['year'], reg.predict(df[['year']]), color='blue')\n",
        "plt.xlabel('Year')\n",
        "plt.ylabel('Per Capita Income (US$)')\n",
        "plt.show()\n"
      ],
      "metadata": {
        "colab": {
          "base_uri": "https://localhost:8080/",
          "height": 536
        },
        "id": "YmAVsZN3jjTS",
        "outputId": "40708bef-20df-46ce-c81e-80d793261869"
      },
      "execution_count": 10,
      "outputs": [
        {
          "output_type": "stream",
          "name": "stdout",
          "text": [
            "Coefficient: [828.46507522]\n",
            "Intercept: -1632210.7578554575\n",
            "Predicted per capita income for 2020: $41,288.69\n"
          ]
        },
        {
          "output_type": "stream",
          "name": "stderr",
          "text": [
            "/usr/local/lib/python3.11/dist-packages/sklearn/utils/validation.py:2739: UserWarning: X does not have valid feature names, but LinearRegression was fitted with feature names\n",
            "  warnings.warn(\n"
          ]
        },
        {
          "output_type": "display_data",
          "data": {
            "text/plain": [
              "<Figure size 640x480 with 1 Axes>"
            ],
            "image/png": "[encoded data removed]"
          },
          "metadata": {}
        }
      ]
    },
    {
      "cell_type": "markdown",
      "source": [
        "**salary**"
      ],
      "metadata": {
        "id": "u08iVt15kKWI"
      }
    },
    {
      "cell_type": "code",
      "source": [
        "import pandas as pd\n",
        "import numpy as np\n",
        "from sklearn import linear_model\n",
        "import matplotlib.pyplot as plt\n",
        "\n",
        "df = pd.read_csv('salary.csv')\n",
        "df = df.dropna(subset=['YearsExperience', 'Salary'])\n",
        "\n",
        "X = df[['YearsExperience']]\n",
        "y = df['Salary']\n",
        "\n",
        "reg = linear_model.LinearRegression()\n",
        "reg.fit(X, y)\n",
        "\n",
        "print(f\"Coefficient: {reg.coef_}\")\n",
        "print(f\"Intercept: {reg.intercept_}\")\n",
        "\n",
        "predicted_salary = reg.predict([[4]])\n",
        "print(f\"Predicted salary for 4 years of experience: ${predicted_salary[0]:,.2f}\")\n",
        "\n",
        "plt.scatter(df['YearsExperience'], df['Salary'], color='red')\n",
        "plt.plot(df['YearsExperience'], reg.predict(df[['YearsExperience']]), color='blue')\n",
        "plt.xlabel('Years of Experience')\n",
        "plt.ylabel('Salary')\n",
        "plt.show()\n"
      ],
      "metadata": {
        "colab": {
          "base_uri": "https://localhost:8080/",
          "height": 536
        },
        "id": "mPdmP5WQjpd4",
        "outputId": "5494bdd8-baab-4fc8-bb13-3d423c376d32"
      },
      "execution_count": 11,
      "outputs": [
        {
          "output_type": "stream",
          "name": "stdout",
          "text": [
            "Coefficient: [9398.64060184]\n",
            "Intercept: 26265.98773185531\n",
            "Predicted salary for 4 years of experience: $63,860.55\n"
          ]
        },
        {
          "output_type": "stream",
          "name": "stderr",
          "text": [
            "/usr/local/lib/python3.11/dist-packages/sklearn/utils/validation.py:2739: UserWarning: X does not have valid feature names, but LinearRegression was fitted with feature names\n",
            "  warnings.warn(\n"
          ]
        },
        {
          "output_type": "display_data",
          "data": {
            "text/plain": [
              "<Figure size 640x480 with 1 Axes>"
            ],
            "image/png": "[encoded data removed]"
          },
          "metadata": {}
        }
      ]
    },
    {
      "cell_type": "markdown",
      "source": [
        "**multiple regression hiring**"
      ],
      "metadata": {
        "id": "IY2smlCpkeYf"
      }
    },
    {
      "cell_type": "code",
      "source": [
        "import pandas as pd\n",
        "import matplotlib.pyplot as plt\n",
        "from sklearn.linear_model import LinearRegression\n",
        "\n",
        "df_hiring = pd.read_csv('hiring.csv')\n",
        "\n",
        "print(\"Original Data:\")\n",
        "print(df_hiring.head())\n",
        "\n",
        "df_hiring['experience'] = df_hiring['experience'].replace({\n",
        "    'five': 5,\n",
        "    'four': 4,\n",
        "    'three': 3\n",
        "})\n",
        "\n",
        "df_hiring['experience'] = pd.to_numeric(df_hiring['experience'], errors='coerce')\n",
        "df_hiring['test_score(out of 10)'] = pd.to_numeric(df_hiring['test_score(out of 10)'], errors='coerce')\n",
        "df_hiring['interview_score(out of 10)'] = pd.to_numeric(df_hiring['interview_score(out of 10)'], errors='coerce')\n",
        "df_hiring['salary($)'] = pd.to_numeric(df_hiring['salary($)'], errors='coerce')\n",
        "\n",
        "df_hiring['experience'] = df_hiring['experience'].fillna(df_hiring['experience'].median())\n",
        "df_hiring['test_score(out of 10)'] = df_hiring['test_score(out of 10)'].fillna(df_hiring['test_score(out of 10)'].median())\n",
        "df_hiring['interview_score(out of 10)'] = df_hiring['interview_score(out of 10)'].fillna(df_hiring['interview_score(out of 10)'].median())\n",
        "df_hiring['salary($)'] = df_hiring['salary($)'].fillna(df_hiring['salary($)'].median())\n",
        "\n",
        "X_hiring = df_hiring[['experience', 'test_score(out of 10)', 'interview_score(out of 10)']]\n",
        "y_hiring = df_hiring['salary($)']\n",
        "\n",
        "model_hiring = LinearRegression()\n",
        "model_hiring.fit(X_hiring, y_hiring)\n",
        "\n",
        "print(f\"\\nCoefficients: {model_hiring.coef_}\")\n",
        "print(f\"Intercept: {model_hiring.intercept_}\")\n",
        "\n",
        "predictions_hiring = model_hiring.predict([[2, 9, 6], [12, 10, 10]])\n",
        "\n",
        "print(f\"\\nPredicted salary for candidate 1 (2 years experience, 9 test score, 6 interview score): ${predictions_hiring[0]:,.2f}\")\n",
        "print(f\"Predicted salary for candidate 2 (12 years experience, 10 test score, 10 interview score): ${predictions_hiring[1]:,.2f}\")\n",
        "\n",
        "\n"
      ],
      "metadata": {
        "colab": {
          "base_uri": "https://localhost:8080/"
        },
        "id": "2zv-mE-Njr_g",
        "outputId": "5b3803c6-c265-4af7-d835-e358c4dce9af"
      },
      "execution_count": 14,
      "outputs": [
        {
          "output_type": "stream",
          "name": "stdout",
          "text": [
            "Original Data:\n",
            "  experience  test_score(out of 10)  interview_score(out of 10)  salary($)\n",
            "0        NaN                    8.0                           9      50000\n",
            "1        NaN                    8.0                           6      45000\n",
            "2       five                    6.0                           7      60000\n",
            "3        two                   10.0                          10      65000\n",
            "4      seven                    9.0                           6      70000\n",
            "\n",
            "Coefficients: [-793.62416107   -5.03355705  139.26174497]\n",
            "Intercept: 65117.44966442955\n",
            "\n",
            "Predicted salary for candidate 1 (2 years experience, 9 test score, 6 interview score): $64,320.47\n",
            "Predicted salary for candidate 2 (12 years experience, 10 test score, 10 interview score): $56,936.24\n"
          ]
        },
        {
          "output_type": "stream",
          "name": "stderr",
          "text": [
            "/usr/local/lib/python3.11/dist-packages/sklearn/utils/validation.py:2739: UserWarning: X does not have valid feature names, but LinearRegression was fitted with feature names\n",
            "  warnings.warn(\n"
          ]
        }
      ]
    },
    {
      "cell_type": "markdown",
      "source": [
        "**multiple regression 1000 companies**\n",
        "\n",
        "\n"
      ],
      "metadata": {
        "id": "CmaDaNtHkoDo"
      }
    },
    {
      "cell_type": "code",
      "source": [
        "import pandas as pd\n",
        "from sklearn.linear_model import LinearRegression\n",
        "\n",
        "df = pd.read_csv('1000_Companies.csv')\n",
        "\n",
        "# Calculate the mean of only numeric columns\n",
        "numeric_cols = df.select_dtypes(include=np.number).columns\n",
        "df[numeric_cols] = df[numeric_cols].fillna(df[numeric_cols].mean())\n",
        "\n",
        "X = df[['R&D Spend', 'Administration', 'Marketing Spend']]\n",
        "y = df['Profit']\n",
        "\n",
        "model = LinearRegression()\n",
        "model.fit(X, y)\n",
        "\n",
        "input_data = [[91694.48, 515841.3, 11931.24]]\n",
        "predicted_profit = model.predict(input_data)\n",
        "print(reg.coef_)\n",
        "print(reg.intercept_)\n",
        "\n",
        "print(f\"Predicted profit for given inputs: ${predicted_profit[0]:,.2f}\")"
      ],
      "metadata": {
        "colab": {
          "base_uri": "https://localhost:8080/"
        },
        "id": "AzT_aOwJkm6I",
        "outputId": "7db7bc5d-7b87-4fe8-cd61-be02fc49b075"
      },
      "execution_count": 15,
      "outputs": [
        {
          "output_type": "stream",
          "name": "stdout",
          "text": [
            "[9398.64060184]\n",
            "26265.98773185531\n",
            "Predicted profit for given inputs: $511,177.32\n"
          ]
        },
        {
          "output_type": "stream",
          "name": "stderr",
          "text": [
            "/usr/local/lib/python3.11/dist-packages/sklearn/utils/validation.py:2739: UserWarning: X does not have valid feature names, but LinearRegression was fitted with feature names\n",
            "  warnings.warn(\n"
          ]
        }
      ]
    }
  ]
}